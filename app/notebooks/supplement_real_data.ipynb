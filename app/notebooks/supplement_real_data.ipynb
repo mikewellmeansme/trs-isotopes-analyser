{
 "cells": [
  {
   "cell_type": "code",
   "execution_count": 1,
   "metadata": {},
   "outputs": [],
   "source": [
    "import sys \n",
    "sys.path.append('..')"
   ]
  },
  {
   "cell_type": "code",
   "execution_count": 2,
   "metadata": {},
   "outputs": [],
   "source": [
    "from load_data import *\n",
    "\n",
    "pd.options.mode.chained_assignment = None  # default='warn'"
   ]
  },
  {
   "cell_type": "code",
   "execution_count": 3,
   "metadata": {},
   "outputs": [],
   "source": [
    "def supplement_df(df1, df2):\n",
    "    \"\"\"\n",
    "    function for supplementing DataFrame df1 by data from df2 \n",
    "    \"\"\"\n",
    "    df = df1.join(pd.DataFrame(df2['Year']).set_index('Year'), on='Year', how='right').reset_index(drop=True)\n",
    "    return df.fillna(df2)"
   ]
  },
  {
   "cell_type": "code",
   "execution_count": 34,
   "metadata": {},
   "outputs": [],
   "source": [
    "supplement_df(mean_prec_C, grid_prec_C).to_csv('../input/climate/real+grid/Prec_Chokurdakh.csv', index=False)\n",
    "supplement_df(mean_temp_C, grid_temp_C).to_csv('../input/climate/real+grid/Temp_Chokurdakh.csv', index=False)\n",
    "supplement_df(mean_vpd_C, grid_vp_C).to_csv('../input/climate/real+grid/VPD_Chokurdakh.csv', index=False)\n",
    "supplement_df(mean_prec_H, grid_prec_H).to_csv('../input/climate/real+grid/Prec_Khatanga.csv', index=False)\n",
    "supplement_df(mean_temp_H, grid_temp_H).to_csv('../input/climate/real+grid/Temp_Khatanga.csv', index=False)\n",
    "supplement_df(mean_vpd_H, grid_vp_H).to_csv('../input/climate/real+grid/VPD_Khatanga.csv', index=False)\n",
    "supplement_df(mean_prec_I, grid_prec_I).to_csv('../input/climate/real+grid/Prec_Inuvik.csv', index=False)\n",
    "supplement_df(mean_temp_I, grid_temp_I).to_csv('../input/climate/real+grid/Temp_Inuvik.csv', index=False)\n",
    "supplement_df(mean_vpd_I, grid_vp_I).to_csv('../input/climate/real+grid/VPD_Inuvik.csv', index=False)"
   ]
  },
  {
   "cell_type": "code",
   "execution_count": 4,
   "metadata": {},
   "outputs": [],
   "source": [
    "supplement_df(mean_prec_D, grid_prec_D).to_csv('../input/climate/real+grid/Prec_Deputatsky.csv', index=False)\n",
    "supplement_df(mean_temp_D, grid_temp_D).to_csv('../input/climate/real+grid/Temp_Deputatsky.csv', index=False)\n",
    "supplement_df(mean_vpd_D, grid_vp_D).to_csv('../input/climate/real+grid/VPD_Deputatsky.csv', index=False)"
   ]
  },
  {
   "cell_type": "code",
   "execution_count": null,
   "metadata": {},
   "outputs": [],
   "source": []
  }
 ],
 "metadata": {
  "interpreter": {
   "hash": "ea00faadcfb8ab3c64085c6facc6f20135a21130ce7141e34f66da8bb95f9659"
  },
  "kernelspec": {
   "display_name": "Python 3.9.4 64-bit",
   "name": "python3"
  },
  "language_info": {
   "codemirror_mode": {
    "name": "ipython",
    "version": 3
   },
   "file_extension": ".py",
   "mimetype": "text/x-python",
   "name": "python",
   "nbconvert_exporter": "python",
   "pygments_lexer": "ipython3",
   "version": "3.9.7"
  },
  "orig_nbformat": 4
 },
 "nbformat": 4,
 "nbformat_minor": 2
}
