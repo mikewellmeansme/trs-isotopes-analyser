{
 "cells": [
  {
   "cell_type": "code",
   "execution_count": 1,
   "metadata": {},
   "outputs": [],
   "source": [
    "import sys \n",
    "sys.path.append('..')"
   ]
  },
  {
   "cell_type": "code",
   "execution_count": 2,
   "metadata": {},
   "outputs": [],
   "source": [
    "import pandas as pd\n",
    "from os import listdir\n",
    "from os.path import isfile, join\n",
    "from utils.functions import dropna_pearsonr, dropna_spearmanr, get_df_corr\n",
    "from utils.df_preprocessing import highlight_significant_cells\n",
    "import numpy as np\n",
    "import seaborn as sns\n",
    "\n",
    "pd.options.mode.chained_assignment = None  # default='warn'"
   ]
  },
  {
   "cell_type": "code",
   "execution_count": 3,
   "metadata": {},
   "outputs": [],
   "source": [
    "path = '../input/climate/real+grid'\n",
    "files = [f.split('.')[0] for f in listdir(path) if isfile(join(path, f))]\n",
    "\n",
    "data = dict()\n",
    "for f in files:\n",
    "    data[f] = pd.read_csv(f'{path}/{f}.csv')\n",
    "\n",
    "data['DP_Inuvik'] = pd.read_csv('../input/climate/real/dew point temperature/DewPointTemp_Inuvik.csv')\n",
    "data['SD_Khatanga'] = pd.read_csv('../input/climate/real/sunshine duration/SD_Khatanga.csv')\n",
    "data['SD_Chokurdakh'] = pd.read_csv('../input/climate/real/sunshine duration/SD_Chokurdakh.csv')\n",
    "data['SD_Deputatsky'] = pd.read_csv('../input/climate/real/sunshine duration/SD_Deputatsky.csv')\n",
    "data['RH_Inuvik'] = pd.read_csv('../input/climate/real/relative humidity/RH_Inuvik.csv')\n",
    "data['RH_Khatanga'] = pd.read_csv('../input/climate/real/relative humidity/RH_Khatanga.csv')\n",
    "data['RH_Inuvik'] = pd.read_csv('../input/climate/real/relative humidity/RH_Inuvik.csv')\n",
    "data['RH_Deputatsky'] = pd.read_csv('../input/climate/real/relative humidity/RH_Deputatsky.csv')\n"
   ]
  },
  {
   "cell_type": "markdown",
   "metadata": {},
   "source": [
    "# Финальные вычисления со всеми данными:"
   ]
  },
  {
   "cell_type": "code",
   "execution_count": 4,
   "metadata": {},
   "outputs": [],
   "source": [
    "df_COH = pd.read_excel('../input/COH/YAK_TAY_CAN_d13C_d18O_2H.xlsx')"
   ]
  },
  {
   "cell_type": "code",
   "execution_count": 15,
   "metadata": {},
   "outputs": [],
   "source": [
    "#TODO: Перетащить это и ячейку ниже в .py файлы\n",
    "\n",
    "def get_multiple_values(d: dict, keys: list) -> list:\n",
    "    result = []\n",
    "    existing_keys = []\n",
    "    for key in keys:\n",
    "        value = d.get(key)\n",
    "        if not value is None:\n",
    "            result.append(value)\n",
    "            existing_keys.append(key)\n",
    "    return existing_keys, result"
   ]
  },
  {
   "cell_type": "code",
   "execution_count": 6,
   "metadata": {},
   "outputs": [],
   "source": [
    "reg_locs = {\n",
    "    'TAY': 'Khatanga',\n",
    "    'YAK': 'Chokurdakh',\n",
    "    'CAN': 'Inuvik'\n",
    "}\n",
    "\n",
    "ind_titels = {\n",
    "    'dH': '$δH$',\n",
    "    'd13C': '$δ^{13}C$',\n",
    "    'd18O': '$δ^{18}O$'\n",
    "}\n",
    "\n",
    "char_to_clolr = {\n",
    "    'Temp': 'red',\n",
    "    'Prec': 'blue',\n",
    "    'VPD': 'green',\n",
    "    'SD': 'orange',\n",
    "    'RH': 'lightblue'\n",
    "}\n",
    "\n",
    "r_values, p_values = dict(), dict()"
   ]
  },
  {
   "cell_type": "code",
   "execution_count": null,
   "metadata": {},
   "outputs": [],
   "source": [
    "for column in df_COH.columns:\n",
    "    if column == 'Year':\n",
    "        continue\n",
    "    ind, reg = column.split('_')\n",
    "    loc = reg_locs[reg]\n",
    "    title = f'{reg_locs[reg]} {ind_titels[ind]}'\n",
    "    keys, chars = get_multiple_values(data, [f'Temp_{loc}', f'Prec_{loc}', f'VPD_{loc}', f'SD_{loc}', f'RH_{loc}'])\n",
    "    keys = [key.split('_')[0] for key in keys]\n",
    "    colors = [char_to_clolr[key] for key in keys]\n",
    "\n",
    "    fig, ax, rs, ps = plot_mothly_dendroclim(\n",
    "        df_crn=df_COH[['Year', column]],\n",
    "        dfs_char=chars,\n",
    "        ylabels=keys,\n",
    "        colors=colors,\n",
    "        title=title,\n",
    "        ylim=[-0.7, 0.8]\n",
    "    )\n",
    "    r_values[column] = rs\n",
    "    p_values[column] = ps\n"
   ]
  },
  {
   "cell_type": "code",
   "execution_count": null,
   "metadata": {},
   "outputs": [],
   "source": [
    "total_keys = ['Temp', 'Prec', 'VPD', 'SD', 'RH']"
   ]
  },
  {
   "cell_type": "code",
   "execution_count": 42,
   "metadata": {},
   "outputs": [],
   "source": [
    "df_COH_corr = {\n",
    "    'Month' : {'':  ['S', 'O', 'N', 'D', 'J', 'F', 'M', 'A', 'M ', 'J', 'J', 'A']},\n",
    "}"
   ]
  },
  {
   "cell_type": "code",
   "execution_count": 56,
   "metadata": {},
   "outputs": [
    {
     "data": {
      "text/plain": [
       "'d18O_CAN'"
      ]
     },
     "execution_count": 56,
     "metadata": {},
     "output_type": "execute_result"
    }
   ],
   "source": [
    "column"
   ]
  },
  {
   "cell_type": "code",
   "execution_count": 57,
   "metadata": {},
   "outputs": [],
   "source": [
    "for column in df_COH.columns:\n",
    "    if column == 'Year':\n",
    "        continue\n",
    "    df_COH_corr[column] = {'Temp':[], 'Prec':[], 'VPD':[], 'RH': []}\n",
    "\n",
    "    if not 'CAN' in column:\n",
    "        # Для Инувика нет данных по Солнечному Сиянию\n",
    "        df_COH_corr[column]['SD'] = []\n",
    "\n",
    "    rs = r_values[column]\n",
    "    ps = p_values[column]\n",
    "    for key in rs:\n",
    "        for r,p in zip(rs[key], ps[key]):\n",
    "            text = f'{r:.2f}\\n(p={p:.3f})'\n",
    "            df_COH_corr[column][key].append(text)\n",
    "\n",
    "df_reform = {(outerKey, innerKey): values for outerKey, innerDict in df_COH_corr.items() for innerKey, values in innerDict.items()}\n",
    "df_reform = pd.DataFrame(df_reform)"
   ]
  },
  {
   "cell_type": "code",
   "execution_count": 59,
   "metadata": {},
   "outputs": [],
   "source": [
    "df_reform.to_excel('../output/dendroclim_COH_corr.xlsx')"
   ]
  },
  {
   "cell_type": "markdown",
   "metadata": {},
   "source": [
    "# Task 03.04.2022"
   ]
  },
  {
   "cell_type": "markdown",
   "metadata": {},
   "source": [
    "Рассчитать климатику между данными в файле \"TAY_YAK_COH_030422.xlsx\" с темп, осадк, относит влажностью, VPD, SD c 1901-2020, и с 1950-2020 для каждого параметра С, H, О для YAK с метеост Чокурдах и Депутатское, для TAY c Хатангой. Посчитать корреляции между С, O, H для TAY и YAK для 1900-2020 and 1950-2020.\n",
    "\n",
    "если нет данных с 50х, а только с 1966, то сделать с 1966 по 2020/2021 и до с 1900 по 1965 или с 1901 по 1950"
   ]
  },
  {
   "cell_type": "code",
   "execution_count": 4,
   "metadata": {},
   "outputs": [],
   "source": [
    "df_COH = pd.read_excel(\"../input/COH/TAY_YAK_COH_030422.xlsx\")"
   ]
  },
  {
   "cell_type": "code",
   "execution_count": 6,
   "metadata": {},
   "outputs": [],
   "source": [
    "df_COH_before_1950 = df_COH[df_COH['Year']<=1950]\n",
    "df_COH_after_1950 = df_COH[df_COH['Year']>1950]"
   ]
  },
  {
   "cell_type": "code",
   "execution_count": 11,
   "metadata": {},
   "outputs": [],
   "source": [
    "get_df_corr(df_COH.drop(columns=['Year'])).to_excel('../output/COH_corr_1900-2021.xlsx', index=True)\n",
    "get_df_corr(df_COH_before_1950.drop(columns=['Year'])).to_excel('../output/COH_corr_1900-1950.xlsx', index=True)\n",
    "get_df_corr(df_COH_after_1950.drop(columns=['Year'])).to_excel('../output/COH_corr_1951-2021.xlsx', index=True)"
   ]
  },
  {
   "cell_type": "code",
   "execution_count": 7,
   "metadata": {},
   "outputs": [],
   "source": [
    "loc_to_reg = {\n",
    "    'Chokurdakh': 'YAK',\n",
    "    'Deputatsky': 'YAK',\n",
    "    'Khatanga' : 'TAY'\n",
    "    }\n",
    "dfs = {\n",
    "    '1900-2021':df_COH,\n",
    "    #'1900-1950':df_COH_before_1950,\n",
    "    '1951-2021': df_COH_after_1950\n",
    "    }\n",
    "\n",
    "ind_titels = {\n",
    "    '2H': '$δH$',\n",
    "    '13C': '$δ^{13}C$',\n",
    "    '18O': '$δ^{18}O$'\n",
    "}\n",
    "\n",
    "char_to_clolr = {\n",
    "    'Temp': 'red',\n",
    "    'Prec': 'blue',\n",
    "    'VPD': 'green',\n",
    "    'SD': 'orange',\n",
    "    'RH': 'lightblue'\n",
    "}\n",
    "\n"
   ]
  },
  {
   "cell_type": "code",
   "execution_count": null,
   "metadata": {},
   "outputs": [],
   "source": [
    "for df_key in dfs:\n",
    "    df_reform = get_coh_corr_table(data, dfs[df_key], loc_to_reg, ind_titels, char_to_clolr)\n",
    "    df_reform.to_excel(f'../output/dendroclim_COH_corr_{df_key}.xlsx')"
   ]
  },
  {
   "cell_type": "markdown",
   "metadata": {},
   "source": [
    "# Task 20.04.2022"
   ]
  },
  {
   "cell_type": "code",
   "execution_count": null,
   "metadata": {},
   "outputs": [],
   "source": [
    "from climate.data_preprocessing import load_data\n",
    "\n",
    "data = load_data('../input/climate/real')"
   ]
  },
  {
   "cell_type": "code",
   "execution_count": 3,
   "metadata": {},
   "outputs": [],
   "source": [
    "df_COH = pd.read_excel(\"../input/COH/13C_allsites.xlsx\")"
   ]
  },
  {
   "cell_type": "code",
   "execution_count": 136,
   "metadata": {},
   "outputs": [],
   "source": [
    "df_sites = pd.read_csv('../input/Sites.csv')\n",
    "\n",
    "regs_locs = df_sites[['Site code', 'Station name']].dropna()\n",
    "\n",
    "regs = list(regs_locs['Site code'])\n",
    "locs = list(regs_locs['Station name'])"
   ]
  },
  {
   "cell_type": "code",
   "execution_count": 52,
   "metadata": {},
   "outputs": [],
   "source": [
    "chars = ['Temp', 'Prec', 'VPD', 'RH', 'SD']\n",
    "\n",
    "periods = {\n",
    "    'Station name' :locs\n",
    "}\n",
    "\n",
    "for char in chars:\n",
    "    periods[char] = []\n",
    "    for loc in locs:\n",
    "        try:\n",
    "            d = data[f'{char}_{loc}']\n",
    "            period = f\"{min(d['Year'])}-{max(d['Year'])}\"\n",
    "        except:\n",
    "            period = ''\n",
    "        periods[char] += [period]\n",
    "\n",
    "pd.DataFrame(periods).to_excel('../output/Periods-table.xlsx', index=False)"
   ]
  },
  {
   "cell_type": "code",
   "execution_count": null,
   "metadata": {},
   "outputs": [],
   "source": [
    "new_df = pd.DataFrame({'Year':range(1901,2022)})\n",
    "\n",
    "for key in data:\n",
    "    data[key]['MEAN'] = data[key].drop(columns=['Year']).mean(axis=1, skipna=True)\n",
    "    new_df = new_df.merge(data[key][['Year', 'MEAN']], on='Year', how='left').rename(columns={'MEAN':key})\n",
    "\n",
    "new_new_df = ~new_df.isna()\n",
    "new_new_df['Year'] = new_df['Year']\n",
    "new_new_df = new_new_df.replace(False, 0).replace(True, 1)\n",
    "\n",
    "new_new_df.to_excel('../output/NEW_data_gap_table.xlsx')"
   ]
  },
  {
   "cell_type": "code",
   "execution_count": 9,
   "metadata": {},
   "outputs": [],
   "source": [
    "ind_titels = {\n",
    "    '2H': '$δH$',\n",
    "    '13C': '$δ^{13}C$',\n",
    "    '18O': '$δ^{18}O$'\n",
    "}\n",
    "\n",
    "char_to_color = {\n",
    "    'Temp': 'red',\n",
    "    'Prec': 'blue',\n",
    "    'VPD': 'green',\n",
    "    'SD': 'orange',\n",
    "    'RH': 'lightblue'\n",
    "}"
   ]
  },
  {
   "cell_type": "code",
   "execution_count": 13,
   "metadata": {},
   "outputs": [
    {
     "name": "stderr",
     "output_type": "stream",
     "text": [
      "c:\\Users\\Mikhail\\AppData\\Local\\Programs\\Python\\Python39\\lib\\site-packages\\scipy\\stats\\stats.py:4023: PearsonRConstantInputWarning: An input array is constant; the correlation coefficient is not defined.\n",
      "  warnings.warn(PearsonRConstantInputWarning())\n"
     ]
    }
   ],
   "source": [
    "r_values, p_values = get_coh_corr(data, df_COH, locs, regs, ind_titels)\n",
    "df_reform = coh_corr_to_table(r_values, p_values, data)"
   ]
  },
  {
   "cell_type": "code",
   "execution_count": null,
   "metadata": {},
   "outputs": [],
   "source": [
    "df_reform.T.style.applymap(highlight_significant_cells).to_excel(f'../output/dendroclim_COH_corr_FULL_07.xlsx')"
   ]
  },
  {
   "cell_type": "markdown",
   "metadata": {},
   "source": [
    "# Графики для 25 участков воедино (1960-2020)"
   ]
  },
  {
   "cell_type": "code",
   "execution_count": 3,
   "metadata": {},
   "outputs": [],
   "source": [
    "import matplotlib.pyplot as plt\n",
    "from climate.coh import get_coh_corr, coh_corr_to_table, plot_coh_corr\n",
    "from climate.coh import plot_multiple_coh_corr\n",
    "from utils.plots import ind_titels\n",
    "from climate.data_preprocessing import load_data\n",
    "from utils.plots import ind_titels, interpotate_between_colors"
   ]
  },
  {
   "cell_type": "code",
   "execution_count": 6,
   "metadata": {},
   "outputs": [],
   "source": [
    "data = load_data('../../input/climate/real')"
   ]
  },
  {
   "cell_type": "code",
   "execution_count": 7,
   "metadata": {},
   "outputs": [],
   "source": [
    "df_sites = pd.read_csv('../../input/Sites.csv')\n",
    "df_sites = df_sites.drop([1]) # Откидываем индекс MOR\n",
    "\n",
    "regs_locs = df_sites[['Site code', 'Station name']].dropna()\n",
    "\n",
    "regs = list(regs_locs['Site code'])\n",
    "locs = list(regs_locs['Station name'])"
   ]
  },
  {
   "cell_type": "code",
   "execution_count": 8,
   "metadata": {},
   "outputs": [],
   "source": [
    "df_COH = pd.read_excel(\"../../input/COH/COH_allsites.xlsx\")"
   ]
  },
  {
   "cell_type": "code",
   "execution_count": 9,
   "metadata": {},
   "outputs": [],
   "source": [
    "df_COH_1960_2000 = df_COH[(df_COH['Year'] >= 1960) & (df_COH['Year'] <= 2000)]"
   ]
  },
  {
   "cell_type": "code",
   "execution_count": 10,
   "metadata": {},
   "outputs": [],
   "source": [
    "sites_by_region = dict()\n",
    "\n",
    "for region in pd.unique(df_sites['Region']):\n",
    "    sites_by_region[region] = list(df_sites[df_sites['Region'] == region]['Site code'])"
   ]
  },
  {
   "cell_type": "code",
   "execution_count": 11,
   "metadata": {},
   "outputs": [
    {
     "data": {
      "text/plain": [
       "Index(['Year', 'IND_13C', 'YAK_13C', 'PYAD_13C', 'TAY_13C', 'ENE_13C',\n",
       "       'KOL_13C', 'TUR_13C', 'KHAK_13C', 'DAV_13C', 'OLH_13C', 'IRK_13C',\n",
       "       'ALT_13C', 'LAN_13C', 'INA_13C', 'ILO_13C', 'TOR_13C', 'FOR_13C',\n",
       "       'GUT_13C', 'QU_13C', 'MZ_13C', 'CAN_13C', 'SWE_13C', 'ALA_13C',\n",
       "       'OLH_18O', 'QU_18O', 'MOR_18O', 'TAY_18O', 'IND_18O', 'TUR_18O',\n",
       "       'KHAK_18O', 'ENE_18O', 'MZ_18O', 'CAN_18O', 'GUT_18O', 'ILO_18O',\n",
       "       'INA_18O', 'AL_13C', 'AL_18O', 'HO_13C', 'CH_13C', 'HO_18O', 'CH_18O',\n",
       "       'TAY_2H', 'CAN_2H', 'IND_2H', 'GUT_2H', 'ILO_2H', 'INA_2H', 'PYAD_18O'],\n",
       "      dtype='object')"
      ]
     },
     "execution_count": 11,
     "metadata": {},
     "output_type": "execute_result"
    }
   ],
   "source": [
    "df_COH_1960_2000.keys()"
   ]
  },
  {
   "cell_type": "code",
   "execution_count": 12,
   "metadata": {},
   "outputs": [
    {
     "name": "stderr",
     "output_type": "stream",
     "text": [
      "c:\\Users\\Mikhail\\AppData\\Local\\Programs\\Python\\Python39\\lib\\site-packages\\scipy\\stats\\stats.py:4023: PearsonRConstantInputWarning: An input array is constant; the correlation coefficient is not defined.\n",
      "  warnings.warn(PearsonRConstantInputWarning())\n"
     ]
    }
   ],
   "source": [
    "r_values, p_values = get_coh_corr(data, df_COH_1960_2000, locs, regs, ind_titels)"
   ]
  },
  {
   "cell_type": "code",
   "execution_count": 13,
   "metadata": {},
   "outputs": [],
   "source": [
    "colors = interpotate_between_colors(['#cc3232', '#e7b416', '#1b7821', '#267ef1', '#ff11c2'], len(regs))"
   ]
  },
  {
   "cell_type": "code",
   "execution_count": 14,
   "metadata": {},
   "outputs": [],
   "source": [
    "reg_to_color = {reg:color for reg, color in zip(regs, colors)}"
   ]
  },
  {
   "cell_type": "code",
   "execution_count": 13,
   "metadata": {},
   "outputs": [],
   "source": [
    "def select(d:dict, l:list)->dict:\n",
    "    res = dict()\n",
    "    for key in d:\n",
    "        if key.site_region in l:\n",
    "            res[key] = d[key]\n",
    "    return res"
   ]
  },
  {
   "cell_type": "code",
   "execution_count": 14,
   "metadata": {},
   "outputs": [
    {
     "data": {
      "text/plain": [
       "dict_keys(['Russian Federation', 'Finland', 'Sweden', 'Norway', 'Canada', 'USA'])"
      ]
     },
     "execution_count": 14,
     "metadata": {},
     "output_type": "execute_result"
    }
   ],
   "source": [
    "sites_by_region.keys()"
   ]
  },
  {
   "cell_type": "code",
   "execution_count": 16,
   "metadata": {},
   "outputs": [],
   "source": [
    "from utils.plots import char_2_characteristic, month_names"
   ]
  },
  {
   "cell_type": "code",
   "execution_count": 17,
   "metadata": {},
   "outputs": [],
   "source": [
    "chars = ['Temp', 'Prec', 'VPD', 'RH', 'SD']\n",
    "inds = ['13C', '18O', '2H']\n",
    "linestyles = {\n",
    "    '13C' : 'solid',\n",
    "    '18O' : (0, (5, 10)),\n",
    "    '2H': (0, (3,5,1,5))\n",
    "}\n",
    "markers ={\n",
    "    '13C' : 'D',\n",
    "    '18O' : 'p',\n",
    "    '2H': 'v'\n",
    "}"
   ]
  },
  {
   "cell_type": "code",
   "execution_count": null,
   "metadata": {},
   "outputs": [],
   "source": [
    "\n",
    "for region in sites_by_region.keys():\n",
    "#region = 'Russian Federation'\n",
    "    print(f'______{region}______')\n",
    "    for char in chars:\n",
    "        fig, ax = plt.subplots(figsize=(6,5), dpi=300)\n",
    "        for ind in inds:\n",
    "            fig, ax = plot_multiple_coh_corr(\n",
    "                select(r_values, sites_by_region[region]),\n",
    "                select(p_values, sites_by_region[region]),\n",
    "                char,\n",
    "                ind,\n",
    "                reg_to_color,\n",
    "                ax=ax,\n",
    "                linestyle=linestyles[ind],\n",
    "                marker = markers[ind]\n",
    "            )\n",
    "            \n",
    "            handles, labels = ax.get_legend_handles_labels()\n",
    "            if region == 'Russian Federation':\n",
    "                lgd = ax.legend(handles, labels, loc='upper center', bbox_to_anchor=(1.3,1.3))\n",
    "            else:\n",
    "                lgd = ax.legend(handles, labels, loc='upper center', bbox_to_anchor=(1.25,1))\n",
    "            #ax.grid('on')\n",
    "        ax.set_title(f\"{char_2_characteristic[char]} ({region})\")\n",
    "        fig.savefig(f'../output/to_send/{region}_{char}.png', bbox_extra_artists=(lgd,), bbox_inches='tight')\n",
    "        plt.close()"
   ]
  },
  {
   "cell_type": "code",
   "execution_count": 12,
   "metadata": {},
   "outputs": [],
   "source": [
    "coh_corr_to_table(r_values, p_values, data).T.style.applymap(highlight_significant_cells).to_excel(f'../output/trash/COH_corr_1960-2000.xlsx')"
   ]
  },
  {
   "cell_type": "code",
   "execution_count": 18,
   "metadata": {},
   "outputs": [],
   "source": [
    "res = None\n",
    "for key in r_values:\n",
    "    if res is None:\n",
    "        res = pd.DataFrame(r_values[key]).add_prefix(f'{key} ').T\n",
    "    else:\n",
    "        res = res.append(pd.DataFrame(r_values[key]).add_prefix(f'{key} ').T)\n",
    "res = res.rename(columns={i: month for i, month in enumerate(month_names)})"
   ]
  },
  {
   "cell_type": "code",
   "execution_count": 19,
   "metadata": {},
   "outputs": [],
   "source": [
    "res_p = None\n",
    "for key in p_values:\n",
    "    if res_p is None:\n",
    "        res_p = pd.DataFrame(p_values[key]).add_prefix(f'{key} ').T\n",
    "    else:\n",
    "        res_p = res_p.append(pd.DataFrame(p_values[key]).add_prefix(f'{key} ').T)\n",
    "res_p = res_p.rename(columns={i: month for i, month in enumerate(month_names)})"
   ]
  },
  {
   "cell_type": "code",
   "execution_count": 20,
   "metadata": {},
   "outputs": [],
   "source": [
    "indexes = dict()\n",
    "for char in chars:\n",
    "    index = []\n",
    "    for el in res.index:\n",
    "        index.append(char in el)\n",
    "    indexes[char] = index"
   ]
  },
  {
   "cell_type": "code",
   "execution_count": 21,
   "metadata": {},
   "outputs": [],
   "source": [
    "row_colors = []\n",
    "for el in res.index:\n",
    "    if '2H' in el:\n",
    "        row_colors.append('#2DFAA5')\n",
    "    elif '13C' in el:\n",
    "        row_colors.append('#E3D41E')\n",
    "    elif '18O' in el:\n",
    "        row_colors.append('#FA5D2A')\n",
    "row_colors = pd.Series(row_colors)"
   ]
  },
  {
   "cell_type": "code",
   "execution_count": 22,
   "metadata": {},
   "outputs": [],
   "source": [
    "def indexes_to_sitenames(x):\n",
    "    result = []\n",
    "    for el in x:\n",
    "        a = el.split(' ')[0]\n",
    "        site, isotope = a.split('_')\n",
    "        result.append(f'{isotope}_{site}')\n",
    "    return result"
   ]
  },
  {
   "cell_type": "code",
   "execution_count": 23,
   "metadata": {},
   "outputs": [],
   "source": [
    "plt.rcParams['font.size'] = '14'\n",
    "plt.rcParams['font.family'] = 'Times New Roman'"
   ]
  },
  {
   "cell_type": "code",
   "execution_count": 27,
   "metadata": {},
   "outputs": [
    {
     "data": {
      "text/plain": [
       "dict_keys(['Temp', 'Prec', 'VPD', 'RH', 'SD'])"
      ]
     },
     "execution_count": 27,
     "metadata": {},
     "output_type": "execute_result"
    }
   ],
   "source": [
    "indexes.keys()"
   ]
  },
  {
   "cell_type": "code",
   "execution_count": 43,
   "metadata": {},
   "outputs": [],
   "source": [
    "for char in indexes:    \n",
    "    \n",
    "    g = sns.clustermap(\n",
    "        res[indexes[char]].fillna(0),\n",
    "        cmap=\"seismic\",\n",
    "        col_cluster=False,\n",
    "        row_cluster=False,\n",
    "        mask=res_p[indexes[char]].fillna(1)>0.05,\n",
    "        yticklabels=indexes_to_sitenames(res[indexes[char]].index),\n",
    "        row_colors=list(row_colors[indexes[char]]),\n",
    "        linewidths=1,\n",
    "        linecolor='gray',\n",
    "        cbar_pos=(0.12, .6, .05, .18),\n",
    "        cbar_kws=dict(ticks=[-.6, -.3, 0, .3, .6]),\n",
    "        vmin=-0.7, vmax=0.7\n",
    "    )\n",
    "    g.ax_heatmap.set_title(char_2_characteristic[char], fontsize = 20) # title with fontsize 20\n",
    "    g.ax_heatmap.set_xlabel('Month', fontsize = 16) # x-axis label with fontsize 15\n",
    "    g.ax_heatmap.set_xticklabels(g.ax_heatmap.get_xticklabels(), rotation = 45)\n",
    "    g.ax_heatmap.yaxis.set_tick_params(labelsize=10)\n",
    "\n",
    "    g.ax_heatmap.set_ylabel('Site code', fontsize = 16) # y-axis label with fontsize 15\n",
    "    #g.ax_heatmap.yaxis.\n",
    "    g.ax_cbar.set_ylabel('Pearson R')\n",
    "    g.ax_cbar.yaxis.tick_left()\n",
    "    g.ax_cbar.yaxis.set_label_position(\"left\")\n",
    "    text_pos = max(g.ax_row_colors.get_ylim())/2\n",
    "    g.ax_row_colors.text(-3.7, text_pos-2, '$-$ $\\delta^{2}H$', fontsize = 16)\n",
    "    g.ax_row_colors.text(-3.7, text_pos, '$-$ $\\delta^{13}C$', fontsize = 16)\n",
    "    g.ax_row_colors.text(-3.7, text_pos+2, '$-$ $\\delta^{18}O$', fontsize = 16)\n",
    "    g.ax_row_colors.add_patch(plt.Rectangle((-5, text_pos-2-1+.15), 1, 1,facecolor='#2DFAA5', clip_on=False,linewidth = 1))\n",
    "    g.ax_row_colors.add_patch(plt.Rectangle((-5, text_pos-1+.15), 1, 1,facecolor='#E3D41E', clip_on=False,linewidth = 1))\n",
    "    g.ax_row_colors.add_patch(plt.Rectangle((-5, text_pos+2-1+.15), 1, 1,facecolor='#FA5D2A', clip_on=False,linewidth = 1))\n",
    "\n",
    "\n",
    "    #plt.plot()\n",
    "    #break\n",
    "    plt.savefig(f'../output/to_send/{char}_heatmap.png', facecolor='white', transparent=False, dpi=300)\n",
    "    plt.close()"
   ]
  },
  {
   "cell_type": "markdown",
   "metadata": {},
   "source": [
    "# Task 04.05.2022"
   ]
  },
  {
   "cell_type": "code",
   "execution_count": 5,
   "metadata": {},
   "outputs": [],
   "source": [
    "COH_res = pd.read_excel('../input/COH/COH_zero-residual_040522.xlsx', sheet_name='resid')\n",
    "COH_z = pd.read_excel('../input/COH/COH_zero-residual_040522.xlsx', sheet_name='zscore')"
   ]
  },
  {
   "cell_type": "code",
   "execution_count": 6,
   "metadata": {},
   "outputs": [],
   "source": [
    "COH_res_after_1950 = COH_res[COH_res['Year']>1950]\n",
    "COH_z_after_1950 = COH_z[COH_z['Year']>1950]"
   ]
  },
  {
   "cell_type": "code",
   "execution_count": 7,
   "metadata": {},
   "outputs": [],
   "source": [
    "locs = ['Chokurdakh', 'Deputatsky', 'Khatanga']\n",
    "regs = ['YAK', 'YAK', 'TAY']\n",
    "dfs = {\n",
    "    '1901-2021 residual': COH_res,\n",
    "    '1951-2021 residual': COH_res_after_1950,\n",
    "    '1901-2021 z-score': COH_z,\n",
    "    '1951-2021 z-score': COH_z_after_1950,\n",
    "    }\n",
    "\n",
    "ind_titels = {\n",
    "    '2H': '$δH$',\n",
    "    '13C': '$δ^{13}C$',\n",
    "    '18O': '$δ^{18}O$'\n",
    "}\n",
    "\n",
    "char_to_color = {\n",
    "    'Temp': 'red',\n",
    "    'Prec': 'blue',\n",
    "    'VPD': 'green',\n",
    "    'SD': 'orange',\n",
    "    'RH': 'lightblue'\n",
    "}"
   ]
  },
  {
   "cell_type": "code",
   "execution_count": 12,
   "metadata": {},
   "outputs": [],
   "source": [
    "from climate.coh import get_coh_corr, coh_corr_to_table, plot_coh_corr"
   ]
  },
  {
   "cell_type": "code",
   "execution_count": 11,
   "metadata": {},
   "outputs": [],
   "source": [
    "for df_key in dfs:\n",
    "    r_values, p_values = get_coh_corr(data, dfs[df_key], locs, regs, ind_titels)\n",
    "    plot_coh_corr(r_values, p_values, ind_titels, char_to_color, fig_savepath='../output/trash', years=df_key)\n",
    "    "
   ]
  },
  {
   "cell_type": "code",
   "execution_count": 9,
   "metadata": {},
   "outputs": [
    {
     "name": "stderr",
     "output_type": "stream",
     "text": [
      "C:\\Users\\Mikhail\\AppData\\Local\\Programs\\Python\\Python39\\lib\\site-packages\\scipy\\stats\\stats.py:4023: PearsonRConstantInputWarning: An input array is constant; the correlation coefficient is not defined.\n",
      "  warnings.warn(PearsonRConstantInputWarning())\n"
     ]
    }
   ],
   "source": [
    "tables = dict()\n",
    "\n",
    "for df_key in dfs:\n",
    "    r_values, p_values = get_coh_corr(data, dfs[df_key], locs, regs, ind_titels)\n",
    "    tables[df_key] = coh_corr_to_table(r_values, p_values, data)"
   ]
  },
  {
   "cell_type": "code",
   "execution_count": 13,
   "metadata": {},
   "outputs": [],
   "source": [
    "for df_key in dfs:\n",
    "    tables[df_key].T.style.applymap(highlight_significant_cells).to_excel(f'../output/trash/{df_key}.xlsx')"
   ]
  },
  {
   "cell_type": "code",
   "execution_count": null,
   "metadata": {},
   "outputs": [],
   "source": []
  }
 ],
 "metadata": {
  "interpreter": {
   "hash": "aac4e10b784c8b68847773aa91e5a338c2143a5789fe517934784a07fa1bd409"
  },
  "kernelspec": {
   "display_name": "Python 3.9.7 64-bit",
   "language": "python",
   "name": "python3"
  },
  "language_info": {
   "codemirror_mode": {
    "name": "ipython",
    "version": 3
   },
   "file_extension": ".py",
   "mimetype": "text/x-python",
   "name": "python",
   "nbconvert_exporter": "python",
   "pygments_lexer": "ipython3",
   "version": "3.9.7"
  },
  "orig_nbformat": 4
 },
 "nbformat": 4,
 "nbformat_minor": 2
}
