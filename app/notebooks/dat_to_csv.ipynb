{
 "cells": [
  {
   "cell_type": "code",
   "execution_count": 30,
   "metadata": {},
   "outputs": [],
   "source": [
    "import os\n",
    "import sys\n",
    "import pandas as pd\n",
    "sys.path.append('..')\n",
    "from climate.txt_to_tables import txt_to_df, montly_columns_names_en\n",
    "from climate.weather_gc_ca import *"
   ]
  },
  {
   "cell_type": "code",
   "execution_count": 22,
   "metadata": {},
   "outputs": [],
   "source": [
    "meteo_path = '../input/climate/raw/meteo.ru/new'"
   ]
  },
  {
   "cell_type": "code",
   "execution_count": 24,
   "metadata": {},
   "outputs": [],
   "source": [
    "station_ru2en = {\n",
    "    'Хоседа-Хард': 'Khoseda Khard',\n",
    "    'Тура': 'Tura',\n",
    "    'Енисейск': 'Eniseysk',\n",
    "    'Минусинск': 'Minusinsk',\n",
    "    'Иркутск, обсерв': 'Irkutsk',\n",
    "    'Мугур-Аксы': 'Mugur-Aksy',\n",
    "    'Барнаул': 'Barnaul',\n",
    "    'Якутск': 'Jakutsk',\n",
    "    'Кандалакша': 'Kandalaksa',\n",
    "    'Нижнеангарск': 'Nizneangarsk',\n",
    "    'Эрзин': 'Ersin'\n",
    "}"
   ]
  },
  {
   "cell_type": "code",
   "execution_count": 25,
   "metadata": {},
   "outputs": [],
   "source": [
    "for char in os.listdir(meteo_path):\n",
    "    char_path = f'{meteo_path}/{char}/'\n",
    "    files = os.listdir(char_path)\n",
    "    statlist_file = ''\n",
    "    for file in files[::-1]:\n",
    "        if 'statlist' in file:\n",
    "            statlist_file = file\n",
    "    wmo_codes = []\n",
    "    station_names = []\n",
    "    with open(f'{char_path}/{statlist_file}') as f:\n",
    "        for line in f:\n",
    "            wmo_code, *station_name = line.strip().split()\n",
    "            station_name = ' '.join(station_name)\n",
    "            wmo_codes.append(wmo_code)\n",
    "            station_names.append(station_name)\n",
    "    for wmo_code, station_name in zip(wmo_codes, station_names):\n",
    "        df = txt_to_df(station=station_ru2en[station_name],\n",
    "                       char=char,\n",
    "                       colums_names=montly_columns_names_en,\n",
    "                       input_path=f'{char_path}/{wmo_code}.txt',\n",
    "                       output_path=char_path,\n",
    "                       save_csv=True)"
   ]
  },
  {
   "cell_type": "code",
   "execution_count": null,
   "metadata": {},
   "outputs": [],
   "source": [
    "path = '../input/climate/real'\n",
    "\n",
    "characterisitict = [\n",
    "    'precipitation',\n",
    "    'relative humidity',\n",
    "    'sunshine duration',\n",
    "    'temperature',\n",
    "    'vpd'\n",
    "]"
   ]
  },
  {
   "cell_type": "code",
   "execution_count": null,
   "metadata": {},
   "outputs": [],
   "source": [
    "for char in characterisitict:\n",
    "    for file in os.listdir(f'{path}/{char}'):\n",
    "        try:\n",
    "            wmo_index, ch, loc_ru = file.split('_')\n",
    "        except:\n",
    "            continue\n",
    "        loc_ru = loc_ru.split('.')[0]\n",
    "        if loc_ru in station_ru2en:\n",
    "            pd.read_csv(f'{path}/{char}/{file}').drop(columns=['WMO Index']).to_csv(f'{path}/{char}/{ch}_{station_ru2en[loc_ru]}.csv', index=False)"
   ]
  },
  {
   "cell_type": "code",
   "execution_count": null,
   "metadata": {},
   "outputs": [],
   "source": [
    "data = download_climate(49649, 2012, 2023)"
   ]
  },
  {
   "cell_type": "code",
   "execution_count": 28,
   "metadata": {},
   "outputs": [],
   "source": [
    "dict_to_json(data, '../output/SCHEFFERVILLE A 1953-2010')\n",
    "dict_to_csv(data, '../output/SCHEFFERVILLE A 1953-2010', 1953, 2011)"
   ]
  },
  {
   "cell_type": "code",
   "execution_count": 11,
   "metadata": {},
   "outputs": [],
   "source": [
    "df = pd.read_csv('../output/SCHEFFERVILLE A_HOURLY 2012-2022.csv')"
   ]
  },
  {
   "cell_type": "code",
   "execution_count": null,
   "metadata": {},
   "outputs": [],
   "source": [
    "daily_df = hourly_to_daily(df)\n",
    "monthly_df = daily_to_monthly(daily_df)"
   ]
  },
  {
   "cell_type": "code",
   "execution_count": 13,
   "metadata": {},
   "outputs": [],
   "source": [
    "daily_df.to_csv('../output/SCHEFFERVILLE A 2012-2022_daily.csv', index=False)\n",
    "monthly_df.to_csv('../output/SCHEFFERVILLE A 2012-2022_monthly.csv', index=False)"
   ]
  },
  {
   "cell_type": "code",
   "execution_count": 54,
   "metadata": {},
   "outputs": [
    {
     "name": "stderr",
     "output_type": "stream",
     "text": [
      "C:\\Users\\Mikhail\\AppData\\Local\\Programs\\Python\\Python39\\lib\\site-packages\\IPython\\core\\interactiveshell.py:3444: DtypeWarning: Columns (10,12,14,16,18,20,22,24,26,27,29) have mixed types.Specify dtype option on import or set low_memory=False.\n",
      "  exec(code_obj, self.user_global_ns, self.user_ns)\n"
     ]
    }
   ],
   "source": [
    "df = pd.read_csv('../output/trash/SCHEFFERVILLE A 1953-2010_HOURLY.csv')"
   ]
  },
  {
   "cell_type": "markdown",
   "metadata": {},
   "source": []
  },
  {
   "cell_type": "code",
   "execution_count": 131,
   "metadata": {},
   "outputs": [],
   "source": [
    "files = os.listdir('../output/trash')[:-2]"
   ]
  },
  {
   "cell_type": "code",
   "execution_count": null,
   "metadata": {},
   "outputs": [],
   "source": [
    "columns = ['Year', 'Month', 'Day', 'Max Temp (°C)','Min Temp (°C)', 'Mean Temp (°C)', 'Total Precip (mm)']\n",
    "\n",
    "agg_arg = { \n",
    "    'Year' : 'min', 'Max Temp (°C)': 'max','Min Temp (°C)': 'min', 'Mean Temp (°C)': 'mean',\n",
    "    'Total Precip (mm)': 'sum'\n",
    "}"
   ]
  },
  {
   "cell_type": "code",
   "execution_count": 139,
   "metadata": {},
   "outputs": [],
   "source": [
    "Flag = False\n",
    "final_df = None\n",
    "for file in files:\n",
    "    df = pd.read_csv(f'../output/trash/{file}')\n",
    "    df = df[columns].groupby('Month').agg(agg_arg)\n",
    "    if Flag:\n",
    "        final_df = final_df.append(df)\n",
    "    else:\n",
    "        final_df = df\n",
    "        Flag = True"
   ]
  },
  {
   "cell_type": "code",
   "execution_count": 142,
   "metadata": {},
   "outputs": [],
   "source": [
    "final_df.reset_index().to_csv('../output/trash/Schefferville Monthly.csv', index=False)"
   ]
  },
  {
   "cell_type": "code",
   "execution_count": 152,
   "metadata": {},
   "outputs": [],
   "source": [
    "final_df = final_df.reset_index()"
   ]
  },
  {
   "cell_type": "code",
   "execution_count": 156,
   "metadata": {},
   "outputs": [],
   "source": [
    "pd.read_csv('../output/trash/Schefferville_1948-1993.csv')[['Year', 'Month', 'Mean Temp (°C)', 'Total Precip (mm)']].append(final_df[['Year', 'Month', 'Mean Temp (°C)', 'Total Precip (mm)']]).to_csv('../output/Schefferville Monthly FULL.csv', index=False)"
   ]
  },
  {
   "cell_type": "code",
   "execution_count": 158,
   "metadata": {},
   "outputs": [],
   "source": [
    "df = pd.read_csv('../output/Schefferville Monthly FULL.csv')"
   ]
  },
  {
   "cell_type": "code",
   "execution_count": 160,
   "metadata": {},
   "outputs": [
    {
     "data": {
      "text/html": [
       "<div>\n",
       "<style scoped>\n",
       "    .dataframe tbody tr th:only-of-type {\n",
       "        vertical-align: middle;\n",
       "    }\n",
       "\n",
       "    .dataframe tbody tr th {\n",
       "        vertical-align: top;\n",
       "    }\n",
       "\n",
       "    .dataframe thead th {\n",
       "        text-align: right;\n",
       "    }\n",
       "</style>\n",
       "<table border=\"1\" class=\"dataframe\">\n",
       "  <thead>\n",
       "    <tr style=\"text-align: right;\">\n",
       "      <th></th>\n",
       "      <th>Year</th>\n",
       "      <th>Month</th>\n",
       "      <th>Mean Temp (°C)</th>\n",
       "      <th>Total Precip (mm)</th>\n",
       "    </tr>\n",
       "  </thead>\n",
       "  <tbody>\n",
       "    <tr>\n",
       "      <th>0</th>\n",
       "      <td>1948</td>\n",
       "      <td>1</td>\n",
       "      <td>NaN</td>\n",
       "      <td>NaN</td>\n",
       "    </tr>\n",
       "    <tr>\n",
       "      <th>1</th>\n",
       "      <td>1948</td>\n",
       "      <td>2</td>\n",
       "      <td>NaN</td>\n",
       "      <td>NaN</td>\n",
       "    </tr>\n",
       "    <tr>\n",
       "      <th>2</th>\n",
       "      <td>1948</td>\n",
       "      <td>3</td>\n",
       "      <td>NaN</td>\n",
       "      <td>NaN</td>\n",
       "    </tr>\n",
       "    <tr>\n",
       "      <th>3</th>\n",
       "      <td>1948</td>\n",
       "      <td>4</td>\n",
       "      <td>NaN</td>\n",
       "      <td>NaN</td>\n",
       "    </tr>\n",
       "    <tr>\n",
       "      <th>4</th>\n",
       "      <td>1948</td>\n",
       "      <td>5</td>\n",
       "      <td>NaN</td>\n",
       "      <td>NaN</td>\n",
       "    </tr>\n",
       "    <tr>\n",
       "      <th>...</th>\n",
       "      <td>...</td>\n",
       "      <td>...</td>\n",
       "      <td>...</td>\n",
       "      <td>...</td>\n",
       "    </tr>\n",
       "    <tr>\n",
       "      <th>847</th>\n",
       "      <td>2018</td>\n",
       "      <td>8</td>\n",
       "      <td>NaN</td>\n",
       "      <td>0.0</td>\n",
       "    </tr>\n",
       "    <tr>\n",
       "      <th>848</th>\n",
       "      <td>2018</td>\n",
       "      <td>9</td>\n",
       "      <td>NaN</td>\n",
       "      <td>0.0</td>\n",
       "    </tr>\n",
       "    <tr>\n",
       "      <th>849</th>\n",
       "      <td>2018</td>\n",
       "      <td>10</td>\n",
       "      <td>NaN</td>\n",
       "      <td>0.0</td>\n",
       "    </tr>\n",
       "    <tr>\n",
       "      <th>850</th>\n",
       "      <td>2018</td>\n",
       "      <td>11</td>\n",
       "      <td>NaN</td>\n",
       "      <td>0.0</td>\n",
       "    </tr>\n",
       "    <tr>\n",
       "      <th>851</th>\n",
       "      <td>2018</td>\n",
       "      <td>12</td>\n",
       "      <td>NaN</td>\n",
       "      <td>0.0</td>\n",
       "    </tr>\n",
       "  </tbody>\n",
       "</table>\n",
       "<p>852 rows × 4 columns</p>\n",
       "</div>"
      ],
      "text/plain": [
       "     Year  Month  Mean Temp (°C)  Total Precip (mm)\n",
       "0    1948      1             NaN                NaN\n",
       "1    1948      2             NaN                NaN\n",
       "2    1948      3             NaN                NaN\n",
       "3    1948      4             NaN                NaN\n",
       "4    1948      5             NaN                NaN\n",
       "..    ...    ...             ...                ...\n",
       "847  2018      8             NaN                0.0\n",
       "848  2018      9             NaN                0.0\n",
       "849  2018     10             NaN                0.0\n",
       "850  2018     11             NaN                0.0\n",
       "851  2018     12             NaN                0.0\n",
       "\n",
       "[852 rows x 4 columns]"
      ]
     },
     "execution_count": 160,
     "metadata": {},
     "output_type": "execute_result"
    }
   ],
   "source": [
    "df"
   ]
  },
  {
   "cell_type": "code",
   "execution_count": 163,
   "metadata": {},
   "outputs": [],
   "source": [
    "montly_to_measurement(df, 'Mean Temp (°C)').to_csv('../output/Temp_Schefferville.csv', index=False)\n",
    "montly_to_measurement(df, 'Total Precip (mm)').to_csv('../output/Prec_Schefferville.csv', index=False)\n"
   ]
  },
  {
   "cell_type": "code",
   "execution_count": 165,
   "metadata": {},
   "outputs": [],
   "source": [
    "scand_df = pd.read_excel('../output/Isonet_Scandinavia_Data_Meteo.xlsx')"
   ]
  },
  {
   "cell_type": "code",
   "execution_count": 177,
   "metadata": {},
   "outputs": [],
   "source": [
    "INA = scand_df[scand_df['Site']=='INA'].rename(columns={'YEAR':'Year', 'month':'Month'})\n",
    "ILO = scand_df[scand_df['Site']=='ILO'].rename(columns={'YEAR':'Year', 'month':'Month'})\n",
    "GUT = scand_df[scand_df['Site']=='GUT'].rename(columns={'YEAR':'Year', 'month':'Month'})"
   ]
  },
  {
   "cell_type": "code",
   "execution_count": 178,
   "metadata": {},
   "outputs": [],
   "source": [
    "montly_to_measurement(INA, 'T').to_csv('../output/Temp_Kessi Inari.csv', index=False)\n",
    "montly_to_measurement(INA, 'P').to_csv('../output/Prec_Kessi Inari.csv', index=False)\n",
    "montly_to_measurement(INA, 'VPD').to_csv('../output/VPD_Kessi Inari.csv', index=False)"
   ]
  },
  {
   "cell_type": "code",
   "execution_count": 179,
   "metadata": {},
   "outputs": [],
   "source": [
    "montly_to_measurement(ILO, 'T').to_csv('../output/Temp_Ilomantsi.csv', index=False)\n",
    "montly_to_measurement(ILO, 'P').to_csv('../output/Prec_Ilomantsi.csv', index=False)\n",
    "montly_to_measurement(ILO, 'VPD').to_csv('../output/VPD_Ilomantsi.csv', index=False)"
   ]
  },
  {
   "cell_type": "code",
   "execution_count": 180,
   "metadata": {},
   "outputs": [],
   "source": [
    "montly_to_measurement(GUT, 'T').to_csv('../output/Temp_Gutulia.csv', index=False)\n",
    "montly_to_measurement(GUT, 'P').to_csv('../output/Prec_Gutulia.csv', index=False)\n",
    "montly_to_measurement(GUT, 'VPD').to_csv('../output/VPD_Gutulia.csv', index=False)"
   ]
  },
  {
   "cell_type": "code",
   "execution_count": 181,
   "metadata": {},
   "outputs": [
    {
     "data": {
      "text/plain": [
       "{'BRO',\n",
       " 'CAV',\n",
       " 'CAZ',\n",
       " 'DRA',\n",
       " 'GIB',\n",
       " 'GUT',\n",
       " 'ILO',\n",
       " 'INA',\n",
       " 'LCH',\n",
       " 'LIL',\n",
       " 'PAN',\n",
       " 'PED',\n",
       " 'POE',\n",
       " 'SUW',\n",
       " 'VIG',\n",
       " 'WIN',\n",
       " 'WOB'}"
      ]
     },
     "execution_count": 181,
     "metadata": {},
     "output_type": "execute_result"
    }
   ],
   "source": [
    "set(scand_df['Site'])"
   ]
  },
  {
   "cell_type": "code",
   "execution_count": 27,
   "metadata": {},
   "outputs": [],
   "source": [
    "ivalo = pd.read_csv('../input/climate/raw/Inari Ivalo Airport.csv')"
   ]
  },
  {
   "cell_type": "code",
   "execution_count": 34,
   "metadata": {},
   "outputs": [],
   "source": [
    "montly_to_measurement(ivalo, 'Precipitation (mm)').to_csv('../input/climate/raw/Prec_Ivalo Airport.csv', index=False)\n",
    "montly_to_measurement(ivalo, ' Temperature (degC)').to_csv('../input/climate/raw/Temp_Ivalo Airport.csv', index=False)"
   ]
  },
  {
   "cell_type": "code",
   "execution_count": null,
   "metadata": {},
   "outputs": [],
   "source": []
  }
 ],
 "metadata": {
  "interpreter": {
   "hash": "f649158f7c33c6404512ef6eab241b4bcb236cb55f6502e8325131a5b8388ac6"
  },
  "kernelspec": {
   "display_name": "Python 3.9.7 64-bit",
   "language": "python",
   "name": "python3"
  },
  "language_info": {
   "codemirror_mode": {
    "name": "ipython",
    "version": 3
   },
   "file_extension": ".py",
   "mimetype": "text/x-python",
   "name": "python",
   "nbconvert_exporter": "python",
   "pygments_lexer": "ipython3",
   "version": "3.9.7"
  },
  "orig_nbformat": 4
 },
 "nbformat": 4,
 "nbformat_minor": 2
}
